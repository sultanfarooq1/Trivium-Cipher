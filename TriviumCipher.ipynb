{
 "cells": [
  {
   "cell_type": "code",
   "execution_count": 47,
   "metadata": {},
   "outputs": [],
   "source": [
    "def Stream_generator(Key,Initialization_vector,Text_length):\n",
    "    registerA=[0] *93   #Registers are  iinitialized by 0's\n",
    "    registerB=[0] *84\n",
    "    registerC=[0] *111\n",
    "\n",
    "\n",
    "    for i in range(80):     #Initialization as mention in the book (Encryption with Trivium) \n",
    "        registerA[i]=Initialization_vector[i]\n",
    "        registerB[i]=Key[i]\n",
    "    \n",
    "    registerC[108]=registerC[109]=registerC[110]=1\n",
    "\n",
    "    \n",
    "\n",
    "    stream_si = []     #Empty list\n",
    "    \n",
    "    #This loop runs for 4*288 times and doesnt store anything known as WARM-UP PHASE\n",
    "    for j in range((4*288)+Text_length):     \n",
    "        OutputA = registerA[65] ^ registerA[92] ^ (registerA[90] & registerA[91])\n",
    "        OutputB = registerB[68] ^ registerB[83] ^ (registerB[81] & registerB[82])\n",
    "        OutputC = registerC[65] ^ registerC[110] ^ (registerC[108] & registerC[109])\n",
    "\n",
    "       #As mentioned in Assignment document the circular style outputA is input of registerB and outputB input of registerC \n",
    "       #and outputC is input of registerA\n",
    "        tempA = OutputC ^ registerA[68]\n",
    "        tempB = OutputA ^ registerB[77]\n",
    "        tempC = OutputB ^ registerC[86]\n",
    "\n",
    "        for x in range(92, 0, -1):   #Shifting process\n",
    "            registerA[x] = registerA[x-1]\n",
    "        registerA[0] = tempA\n",
    "\n",
    "        for x in range(83, 0, -1):\n",
    "            registerB[x] = registerB[x-1]\n",
    "        registerB[0] = tempB\n",
    "\n",
    "        for x in range(110, 0, -1):\n",
    "            registerC[x] = registerC[x-1]\n",
    "        registerC[0] = tempC\n",
    "\n",
    "        if j >= 1152:    #Storing the XOR outputs after the WARM-UP PHASE (The text)\n",
    "            stream_si.append(OutputA ^ OutputB ^ OutputC)\n",
    "    return stream_si"
   ]
  },
  {
   "cell_type": "code",
   "execution_count": 48,
   "metadata": {},
   "outputs": [],
   "source": [
    "#Same function used for encryption and decryption as the only difference is of the text bits in encryption binary is of the\n",
    "#text to be encrypted while in decryption it is the binary of the encrypted\n",
    "def encryption_decryption_text(Key,Initialization_vector,Text):\n",
    "    length_of_text = len(Text)\n",
    "    keystream = Stream_generator(Key,Initialization_vector,length_of_text) \n",
    "    encrypted_text = []  #Empty list\n",
    "    #XOR of text binary bits and the keystream generated to encrypt and decrypt \n",
    "    for i in range(length_of_text):\n",
    "        encrypted_text.append(Text[i] ^ keystream[i])  #Text is basically the binary of text as converted in main and passed as parameter\n",
    "    encrypted_string = \"\".join(chr(int(\"\".join(map(str,encrypted_text[i:i+8])),2)) for i in range(0,len(encrypted_text),8))\n",
    "    return encrypted_string"
   ]
  },
  {
   "cell_type": "code",
   "execution_count": 51,
   "metadata": {},
   "outputs": [
    {
     "name": "stdout",
     "output_type": "stream",
     "text": [
      "Text to encrypt: Conversion to binary was a hectic job!\n",
      "Encrypted text:  ûFoµGYðuð®vd½ðØó~Jbv~ª",
      "\\Ýba§£\u0001Ý\u0007\u00063\n",
      "Decrypted text:  Conversion to binary was a hectic job!\n"
     ]
    }
   ],
   "source": [
    "from random import *\n",
    "randBinList = lambda n: [randint(0,1) for b in range(1,n+1)]\n",
    "Key=randBinList(80)\n",
    "Initialization_vector=randBinList(80)  #Randomly initializing IV with 80 bit binary numbers\n",
    "\n",
    "Text = input(\"Text to encrypt: \")\n",
    "Text_binary=list(map(int, ''.join([bin(ord(i)).lstrip('0b').rjust(8,'0') for i in Text])))  #Converting text to binary\n",
    "text_length=len(Text_binary)\n",
    "cipher_text = encryption_decryption_text(Key,Initialization_vector,Text_binary)\n",
    "print(\"Encrypted text: \",cipher_text)\n",
    "cipher_binary=list(map(int, ''.join([bin(ord(i)).lstrip('0b').rjust(8,'0') for i in cipher_text]))) #to pass as parameter to encryption function\n",
    "cipher_length=len(cipher_binary)\n",
    "\n",
    "#Passing cipher text binary as paraamter to decrypt the encrypted text\n",
    "decrypted_msg = encryption_decryption_text(Key,Initialization_vector,cipher_binary)\n",
    "print(\"Decrypted text: \",decrypted_msg)"
   ]
  }
 ],
 "metadata": {
  "kernelspec": {
   "display_name": "Python 3",
   "language": "python",
   "name": "python3"
  },
  "language_info": {
   "codemirror_mode": {
    "name": "ipython",
    "version": 3
   },
   "file_extension": ".py",
   "mimetype": "text/x-python",
   "name": "python",
   "nbconvert_exporter": "python",
   "pygments_lexer": "ipython3",
   "version": "3.7.3"
  }
 },
 "nbformat": 4,
 "nbformat_minor": 2
}
